{
 "cells": [
  {
   "cell_type": "code",
   "execution_count": 6,
   "id": "900a79cb",
   "metadata": {},
   "outputs": [],
   "source": [
    "import os\n",
    "import pandas as pd\n",
    "from sqlalchemy import create_engine\n",
    "import logging\n",
    "import time"
   ]
  },
  {
   "cell_type": "code",
   "execution_count": 9,
   "id": "ee7b9983",
   "metadata": {},
   "outputs": [],
   "source": [
    "logging.basicConfig(\n",
    "    filename=\"logs/ingestion_db.log\",\n",
    "    level= logging.DEBUG,\n",
    "    format=\"%(asctime)s - %(levelname)s - %(message)s\",\n",
    "    filemode=\"a\"\n",
    ")"
   ]
  },
  {
   "cell_type": "code",
   "execution_count": null,
   "id": "12367717",
   "metadata": {},
   "outputs": [],
   "source": [
    "# Mysql connection details\n",
    "username = \"root\"\n",
    "password = \"password\"\n",
    "host = \"localhost\"\n",
    "database = \"database\""
   ]
  },
  {
   "cell_type": "code",
   "execution_count": 3,
   "id": "5a7c5a9f",
   "metadata": {},
   "outputs": [],
   "source": [
    "# Creating sql engine\n",
    "engine = create_engine(f\"mysql+pymysql://{username}:{password}@{host}/{database}\")\n",
    "\n",
    "chunk_size = 5000"
   ]
  },
  {
   "cell_type": "code",
   "execution_count": 5,
   "id": "3d9b85b0",
   "metadata": {},
   "outputs": [
    {
     "name": "stdout",
     "output_type": "stream",
     "text": [
      "Starting upload for: begin_inventory.csv (table:begin_inventory)\n",
      "Table begin_inventory created\n",
      "Successfully uploaded: begin_inventory.csv > Table: begin_inventory\n",
      "\n",
      "Starting upload for: end_inventory.csv (table:end_inventory)\n",
      "Table end_inventory created\n",
      "Successfully uploaded: end_inventory.csv > Table: end_inventory\n",
      "\n",
      "Starting upload for: purchases.csv (table:purchases)\n",
      "Table purchases created\n",
      "Successfully uploaded: purchases.csv > Table: purchases\n",
      "\n",
      "Starting upload for: purchase_prices.csv (table:purchase_prices)\n",
      "Table purchase_prices created\n",
      "Successfully uploaded: purchase_prices.csv > Table: purchase_prices\n",
      "\n",
      "Starting upload for: sales.csv (table:sales)\n",
      "Table sales created\n",
      "Successfully uploaded: sales.csv > Table: sales\n",
      "\n",
      "Starting upload for: vendor_invoice.csv (table:vendor_invoice)\n",
      "Table vendor_invoice created\n",
      "Successfully uploaded: vendor_invoice.csv > Table: vendor_invoice\n",
      "\n"
     ]
    }
   ],
   "source": [
    "# Looping through each file\n",
    "for file in os.listdir(\"data\"):\n",
    "    if file.endswith(\".csv\"):\n",
    "        table_name = os.path.splitext(file)[0] # removing the extension of file name to use it for tablename, [1] will give .csv\n",
    "        file_path = os.path.join(\"data\",file)\n",
    "\n",
    "        print(f\"Starting upload for: {file} (table:{table_name})\")\n",
    "\n",
    "        first_chunk = True # Used to create table on first chunk\n",
    "\n",
    "        try:\n",
    "            # Read and upload the data in chunks\n",
    "            for chunk in pd.read_csv(file_path, chunksize=chunk_size):\n",
    "                chunk.to_sql(\n",
    "                    name = table_name,\n",
    "                    con = engine,\n",
    "                    index = False,\n",
    "                    if_exists='replace' if first_chunk else 'append'\n",
    "                )\n",
    "                if first_chunk:\n",
    "                    print(f\"Table {table_name} created\")\n",
    "                    first_chunk = False\n",
    "            print(f\"Successfully uploaded: {file} > Table: {table_name}\\n\")\n",
    "        \n",
    "        except Exception as e:\n",
    "            print(f\"Failed to upload {file}: {e}\\n\")\n"
   ]
  }
 ],
 "metadata": {
  "kernelspec": {
   "display_name": "venv",
   "language": "python",
   "name": "python3"
  },
  "language_info": {
   "codemirror_mode": {
    "name": "ipython",
    "version": 3
   },
   "file_extension": ".py",
   "mimetype": "text/x-python",
   "name": "python",
   "nbconvert_exporter": "python",
   "pygments_lexer": "ipython3",
   "version": "3.10.0"
  }
 },
 "nbformat": 4,
 "nbformat_minor": 5
}
